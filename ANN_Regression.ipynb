{
  "nbformat": 4,
  "nbformat_minor": 0,
  "metadata": {
    "colab": {
      "provenance": [],
      "authorship_tag": "ABX9TyMEKaLnHrd4VO3Gteizy9ur",
      "include_colab_link": true
    },
    "kernelspec": {
      "name": "python3",
      "display_name": "Python 3"
    },
    "language_info": {
      "name": "python"
    }
  },
  "cells": [
    {
      "cell_type": "markdown",
      "metadata": {
        "id": "view-in-github",
        "colab_type": "text"
      },
      "source": [
        "<a href=\"https://colab.research.google.com/github/KamranRiyaz/MachineLearning-Using-Python/blob/main/ANN_Regression.ipynb\" target=\"_parent\"><img src=\"https://colab.research.google.com/assets/colab-badge.svg\" alt=\"Open In Colab\"/></a>"
      ]
    },
    {
      "cell_type": "code",
      "execution_count": 1,
      "metadata": {
        "colab": {
          "base_uri": "https://localhost:8080/"
        },
        "id": "O1nVD-kfGFkG",
        "outputId": "c5239100-1818-4939-a936-3537442e00c1"
      },
      "outputs": [
        {
          "output_type": "stream",
          "name": "stdout",
          "text": [
            "Collecting ucimlrepo\n",
            "  Downloading ucimlrepo-0.0.7-py3-none-any.whl.metadata (5.5 kB)\n",
            "Requirement already satisfied: pandas>=1.0.0 in /usr/local/lib/python3.11/dist-packages (from ucimlrepo) (2.2.2)\n",
            "Requirement already satisfied: certifi>=2020.12.5 in /usr/local/lib/python3.11/dist-packages (from ucimlrepo) (2025.1.31)\n",
            "Requirement already satisfied: numpy>=1.23.2 in /usr/local/lib/python3.11/dist-packages (from pandas>=1.0.0->ucimlrepo) (1.26.4)\n",
            "Requirement already satisfied: python-dateutil>=2.8.2 in /usr/local/lib/python3.11/dist-packages (from pandas>=1.0.0->ucimlrepo) (2.8.2)\n",
            "Requirement already satisfied: pytz>=2020.1 in /usr/local/lib/python3.11/dist-packages (from pandas>=1.0.0->ucimlrepo) (2025.1)\n",
            "Requirement already satisfied: tzdata>=2022.7 in /usr/local/lib/python3.11/dist-packages (from pandas>=1.0.0->ucimlrepo) (2025.1)\n",
            "Requirement already satisfied: six>=1.5 in /usr/local/lib/python3.11/dist-packages (from python-dateutil>=2.8.2->pandas>=1.0.0->ucimlrepo) (1.17.0)\n",
            "Downloading ucimlrepo-0.0.7-py3-none-any.whl (8.0 kB)\n",
            "Installing collected packages: ucimlrepo\n",
            "Successfully installed ucimlrepo-0.0.7\n"
          ]
        }
      ],
      "source": [
        "%pip install ucimlrepo"
      ]
    },
    {
      "cell_type": "code",
      "source": [
        "import pandas as pd\n",
        "import numpy as np\n",
        "import matplotlib.pyplot as plt\n",
        "import tensorflow as tf"
      ],
      "metadata": {
        "id": "ZDP_dHDNGRrr"
      },
      "execution_count": 17,
      "outputs": []
    },
    {
      "cell_type": "markdown",
      "source": [
        "# Importing the DataSet"
      ],
      "metadata": {
        "id": "N30arbIRHOOb"
      }
    },
    {
      "cell_type": "code",
      "source": [
        "from ucimlrepo import fetch_ucirepo\n",
        "dataset = fetch_ucirepo(id=294)"
      ],
      "metadata": {
        "id": "4FcCSva7GW6U"
      },
      "execution_count": 6,
      "outputs": []
    },
    {
      "cell_type": "code",
      "source": [
        "X = dataset.data.features.values\n",
        "y = dataset.data.targets.values"
      ],
      "metadata": {
        "id": "-coWItzuGlZH"
      },
      "execution_count": 23,
      "outputs": []
    },
    {
      "cell_type": "code",
      "source": [
        "print(dataset.metadata)"
      ],
      "metadata": {
        "colab": {
          "base_uri": "https://localhost:8080/"
        },
        "id": "ZoJHjtqHHUWV",
        "outputId": "9e105c07-88c7-474a-edaf-8987a96ccbcc"
      },
      "execution_count": 24,
      "outputs": [
        {
          "output_type": "stream",
          "name": "stdout",
          "text": [
            "{'uci_id': 294, 'name': 'Combined Cycle Power Plant', 'repository_url': 'https://archive.ics.uci.edu/dataset/294/combined+cycle+power+plant', 'data_url': 'https://archive.ics.uci.edu/static/public/294/data.csv', 'abstract': 'The dataset contains 9568 data points collected from a Combined Cycle Power Plant over 6 years (2006-2011), when the plant was set to work with full load. ', 'area': 'Computer Science', 'tasks': ['Regression'], 'characteristics': ['Multivariate'], 'num_instances': 9568, 'num_features': 4, 'feature_types': ['Real'], 'demographics': [], 'target_col': ['PE'], 'index_col': None, 'has_missing_values': 'no', 'missing_values_symbol': None, 'year_of_dataset_creation': 2014, 'last_updated': 'Mon Mar 04 2024', 'dataset_doi': '10.24432/C5002N', 'creators': ['Pnar Tfekci', 'Heysem Kaya'], 'intro_paper': {'ID': 406, 'type': 'NATIVE', 'title': 'Prediction of full load electrical power output of a base load operated combined cycle power plant using machine learning methods', 'authors': 'Pınar Tüfekci', 'venue': 'International Journal of Electrical Power & Energy Systems', 'year': 2014, 'journal': None, 'DOI': '10.1016/j.ijepes.2014.02.027', 'URL': 'https://www.semanticscholar.org/paper/f164ee353ada936ef97d0d379f8581336ddc9733', 'sha': None, 'corpus': None, 'arxiv': None, 'mag': None, 'acl': None, 'pmid': None, 'pmcid': None}, 'additional_info': {'summary': 'The dataset contains 9568 data points collected from a Combined Cycle Power Plant over 6 years (2006-2011), when the power plant was set to work with full load. Features consist of hourly average ambient variables Temperature (T), Ambient Pressure (AP), Relative Humidity (RH) and Exhaust Vacuum (V) to predict the net hourly electrical energy output (EP)  of the plant.\\nA combined cycle power plant (CCPP) is composed of gas turbines (GT), steam turbines (ST) and heat recovery steam generators. In a CCPP, the electricity is generated by gas and steam turbines, which are combined in one cycle, and is transferred from one turbine to another. While the Vacuum is colected from and has effect on the Steam Turbine, he other three of the ambient variables effect the GT performance.\\nFor comparability with our baseline studies, and to allow 5x2 fold statistical tests be carried out, we provide the data shuffled five times. For each shuffling 2-fold CV is carried out and the resulting 10 measurements are used for statistical testing.\\nWe provide the data both in .ods and in .xlsx formats.', 'purpose': None, 'funded_by': None, 'instances_represent': None, 'recommended_data_splits': None, 'sensitive_data': None, 'preprocessing_description': None, 'variable_info': 'Features consist of hourly average ambient variables \\n- Temperature (T) in the range 1.81°C and 37.11°C,\\n- Ambient Pressure (AP) in the range 992.89-1033.30 milibar,\\n- Relative Humidity (RH) in the range 25.56% to 100.16%\\n- Exhaust Vacuum (V) in teh range 25.36-81.56 cm Hg\\n- Net hourly electrical energy output (EP) 420.26-495.76 MW\\nThe averages are taken from various sensors located around the plant that record the ambient variables every second. The variables are given without normalization. ', 'citation': None}}\n"
          ]
        }
      ]
    },
    {
      "cell_type": "code",
      "source": [
        "print(dataset.variables)"
      ],
      "metadata": {
        "colab": {
          "base_uri": "https://localhost:8080/"
        },
        "id": "QeB11pKoHZmR",
        "outputId": "0e7a6eb5-08cf-4a9d-f41b-1c5c98d8d8ee"
      },
      "execution_count": 9,
      "outputs": [
        {
          "output_type": "stream",
          "name": "stdout",
          "text": [
            "  name     role        type demographic                          description  \\\n",
            "0   AT  Feature  Continuous        None      in the range 1.81°C and 37.11°C   \n",
            "1    V  Feature  Continuous        None       in teh range 25.36-81.56 cm Hg   \n",
            "2   AP  Feature  Continuous        None  in the range 992.89-1033.30 milibar   \n",
            "3   RH  Feature  Continuous        None       in the range 25.56% to 100.16%   \n",
            "4   PE   Target  Continuous        None                     420.26-495.76 MW   \n",
            "\n",
            "     units missing_values  \n",
            "0        C             no  \n",
            "1    cm Hg             no  \n",
            "2  milibar             no  \n",
            "3        %             no  \n",
            "4       MW             no  \n"
          ]
        }
      ]
    },
    {
      "cell_type": "markdown",
      "source": [
        "#"
      ],
      "metadata": {
        "id": "RUTBcJRwJbBp"
      }
    },
    {
      "cell_type": "markdown",
      "source": [
        "# Data Preprocessing"
      ],
      "metadata": {
        "id": "dkqusYf_JcaK"
      }
    },
    {
      "cell_type": "markdown",
      "source": [
        "## Train-Test Split\n"
      ],
      "metadata": {
        "id": "F195-k35JgXS"
      }
    },
    {
      "cell_type": "code",
      "source": [
        "from sklearn.model_selection import train_test_split\n",
        "X_train, X_test, y_train, y_test = train_test_split(X,y, test_size = 0.2, random_state = 0)"
      ],
      "metadata": {
        "id": "ZanY15k5Jmzi"
      },
      "execution_count": 25,
      "outputs": []
    },
    {
      "cell_type": "code",
      "source": [
        "print(X_train)"
      ],
      "metadata": {
        "colab": {
          "base_uri": "https://localhost:8080/"
        },
        "id": "LiE_-JV_J_tz",
        "outputId": "36891071-dcff-4709-def5-34cf39c0ab2d"
      },
      "execution_count": 26,
      "outputs": [
        {
          "output_type": "stream",
          "name": "stdout",
          "text": [
            "[[  11.22   43.13 1017.24   80.9 ]\n",
            " [  13.67   54.3  1015.92   75.42]\n",
            " [  32.84   77.95 1014.68   45.8 ]\n",
            " ...\n",
            " [  16.81   38.52 1018.26   75.21]\n",
            " [  12.8    41.16 1022.43   86.19]\n",
            " [  32.32   67.9  1006.08   37.93]]\n"
          ]
        }
      ]
    },
    {
      "cell_type": "code",
      "source": [
        "print(X_test)"
      ],
      "metadata": {
        "colab": {
          "base_uri": "https://localhost:8080/"
        },
        "id": "6k8CSX6IKB6b",
        "outputId": "af1ba057-c918-44b9-80d1-b57ac036a5d1"
      },
      "execution_count": 27,
      "outputs": [
        {
          "output_type": "stream",
          "name": "stdout",
          "text": [
            "[[  28.66   77.95 1009.56   69.07]\n",
            " [  17.48   49.39 1021.51   84.53]\n",
            " [  14.86   43.14 1019.21   99.14]\n",
            " ...\n",
            " [  12.24   44.92 1023.74   88.21]\n",
            " [  27.28   47.93 1003.46   59.22]\n",
            " [  17.28   39.99 1007.09   74.25]]\n"
          ]
        }
      ]
    },
    {
      "cell_type": "code",
      "source": [
        "print(y_train)"
      ],
      "metadata": {
        "colab": {
          "base_uri": "https://localhost:8080/"
        },
        "id": "nbwukt9lKFbc",
        "outputId": "a1a2072b-5da0-40a1-e10b-ffd81920d510"
      },
      "execution_count": 28,
      "outputs": [
        {
          "output_type": "stream",
          "name": "stdout",
          "text": [
            "[[473.93]\n",
            " [467.87]\n",
            " [431.97]\n",
            " ...\n",
            " [459.01]\n",
            " [462.72]\n",
            " [428.12]]\n"
          ]
        }
      ]
    },
    {
      "cell_type": "code",
      "source": [
        "print(y_test)"
      ],
      "metadata": {
        "colab": {
          "base_uri": "https://localhost:8080/"
        },
        "id": "jhxxlTenKIMx",
        "outputId": "dc8802c5-432f-41d2-fce8-2d998f9be0f7"
      },
      "execution_count": 29,
      "outputs": [
        {
          "output_type": "stream",
          "name": "stdout",
          "text": [
            "[[431.23]\n",
            " [460.01]\n",
            " [461.14]\n",
            " ...\n",
            " [473.26]\n",
            " [438.  ]\n",
            " [463.28]]\n"
          ]
        }
      ]
    },
    {
      "cell_type": "markdown",
      "source": [
        "## Feature Scaling"
      ],
      "metadata": {
        "id": "uOHbtwEZKQgB"
      }
    },
    {
      "cell_type": "code",
      "source": [
        "from sklearn.preprocessing import StandardScaler\n",
        "sc = StandardScaler()\n",
        "X_train = sc.fit_transform(X_train)\n",
        "X_test = sc.transform(X_test)"
      ],
      "metadata": {
        "id": "JRu5m1YRKPWk"
      },
      "execution_count": 30,
      "outputs": []
    },
    {
      "cell_type": "markdown",
      "source": [
        "# Building the ANN"
      ],
      "metadata": {
        "id": "M0Z_42Q7KlZh"
      }
    },
    {
      "cell_type": "markdown",
      "source": [
        "##1. Initialising the ANN"
      ],
      "metadata": {
        "id": "caScojraKoyM"
      }
    },
    {
      "cell_type": "code",
      "source": [
        "ann = tf.keras.models.Sequential()"
      ],
      "metadata": {
        "id": "o92K3YAtKs1T"
      },
      "execution_count": 41,
      "outputs": []
    },
    {
      "cell_type": "markdown",
      "source": [
        "##2. Add input and first layer"
      ],
      "metadata": {
        "id": "BJPWmDgWK_oL"
      }
    },
    {
      "cell_type": "code",
      "source": [
        "ann.add(tf.keras.layers.Dense(units = 6, activation = 'relu'))"
      ],
      "metadata": {
        "id": "nSdlLj03LC8I"
      },
      "execution_count": 42,
      "outputs": []
    },
    {
      "cell_type": "markdown",
      "source": [
        "##3 Add the Second Hidden layer"
      ],
      "metadata": {
        "id": "MSfhThibOMNL"
      }
    },
    {
      "cell_type": "code",
      "source": [
        "ann.add(tf.keras.layers.Dense(units = 6, activation = 'relu'))"
      ],
      "metadata": {
        "id": "HvmvYzFfOJQ4"
      },
      "execution_count": 43,
      "outputs": []
    },
    {
      "cell_type": "markdown",
      "source": [
        "##3. Add OutPut layer"
      ],
      "metadata": {
        "id": "kc5Ip-3sLj9b"
      }
    },
    {
      "cell_type": "code",
      "source": [
        "ann.add(tf.keras.layers.Dense(units = 1,))"
      ],
      "metadata": {
        "id": "vheaKCR6Lm8E"
      },
      "execution_count": 44,
      "outputs": []
    },
    {
      "cell_type": "markdown",
      "source": [
        "# Training the ANN"
      ],
      "metadata": {
        "id": "thaL9ePfMPmJ"
      }
    },
    {
      "cell_type": "markdown",
      "source": [
        "##1. Compiling the ANN"
      ],
      "metadata": {
        "id": "ZxGVUURYMS6Y"
      }
    },
    {
      "cell_type": "code",
      "source": [
        "ann.compile(optimizer = 'adam', loss = 'mean_squared_error', metrics = ['mae', 'mse'])"
      ],
      "metadata": {
        "id": "_2LE9E8bMR29"
      },
      "execution_count": 45,
      "outputs": []
    },
    {
      "cell_type": "markdown",
      "source": [
        "##2. Training the ANN"
      ],
      "metadata": {
        "id": "8XpFFjeLMVfP"
      }
    },
    {
      "cell_type": "code",
      "source": [
        "ann.fit(X,y,batch_size = 32, epochs = 100)"
      ],
      "metadata": {
        "colab": {
          "base_uri": "https://localhost:8080/"
        },
        "id": "93FWiv5AMXyG",
        "outputId": "0d43cce8-df0b-45d9-a73b-31155d0847eb"
      },
      "execution_count": 46,
      "outputs": [
        {
          "output_type": "stream",
          "name": "stdout",
          "text": [
            "Epoch 1/40\n",
            "\u001b[1m299/299\u001b[0m \u001b[32m━━━━━━━━━━━━━━━━━━━━\u001b[0m\u001b[37m\u001b[0m \u001b[1m2s\u001b[0m 3ms/step - loss: 454432.3750 - mae: 665.6159 - mse: 454432.3750\n",
            "Epoch 2/40\n",
            "\u001b[1m299/299\u001b[0m \u001b[32m━━━━━━━━━━━━━━━━━━━━\u001b[0m\u001b[37m\u001b[0m \u001b[1m1s\u001b[0m 3ms/step - loss: 206443.0938 - mae: 454.0433 - mse: 206443.0938\n",
            "Epoch 3/40\n",
            "\u001b[1m299/299\u001b[0m \u001b[32m━━━━━━━━━━━━━━━━━━━━\u001b[0m\u001b[37m\u001b[0m \u001b[1m1s\u001b[0m 2ms/step - loss: 206183.5000 - mae: 453.7522 - mse: 206183.5000\n",
            "Epoch 4/40\n",
            "\u001b[1m299/299\u001b[0m \u001b[32m━━━━━━━━━━━━━━━━━━━━\u001b[0m\u001b[37m\u001b[0m \u001b[1m1s\u001b[0m 2ms/step - loss: 205609.7656 - mae: 453.1224 - mse: 205609.7656\n",
            "Epoch 5/40\n",
            "\u001b[1m299/299\u001b[0m \u001b[32m━━━━━━━━━━━━━━━━━━━━\u001b[0m\u001b[37m\u001b[0m \u001b[1m1s\u001b[0m 2ms/step - loss: 205814.1250 - mae: 453.3416 - mse: 205814.1250\n",
            "Epoch 6/40\n",
            "\u001b[1m299/299\u001b[0m \u001b[32m━━━━━━━━━━━━━━━━━━━━\u001b[0m\u001b[37m\u001b[0m \u001b[1m1s\u001b[0m 2ms/step - loss: 205601.0469 - mae: 453.1091 - mse: 205601.0469\n",
            "Epoch 7/40\n",
            "\u001b[1m299/299\u001b[0m \u001b[32m━━━━━━━━━━━━━━━━━━━━\u001b[0m\u001b[37m\u001b[0m \u001b[1m1s\u001b[0m 2ms/step - loss: 205106.0469 - mae: 452.5638 - mse: 205106.0469\n",
            "Epoch 8/40\n",
            "\u001b[1m299/299\u001b[0m \u001b[32m━━━━━━━━━━━━━━━━━━━━\u001b[0m\u001b[37m\u001b[0m \u001b[1m1s\u001b[0m 2ms/step - loss: 205049.6719 - mae: 452.4997 - mse: 205049.6719\n",
            "Epoch 9/40\n",
            "\u001b[1m299/299\u001b[0m \u001b[32m━━━━━━━━━━━━━━━━━━━━\u001b[0m\u001b[37m\u001b[0m \u001b[1m1s\u001b[0m 2ms/step - loss: 204564.2188 - mae: 451.9606 - mse: 204564.2188\n",
            "Epoch 10/40\n",
            "\u001b[1m299/299\u001b[0m \u001b[32m━━━━━━━━━━━━━━━━━━━━\u001b[0m\u001b[37m\u001b[0m \u001b[1m1s\u001b[0m 2ms/step - loss: 204626.4375 - mae: 452.0311 - mse: 204626.4375\n",
            "Epoch 11/40\n",
            "\u001b[1m299/299\u001b[0m \u001b[32m━━━━━━━━━━━━━━━━━━━━\u001b[0m\u001b[37m\u001b[0m \u001b[1m1s\u001b[0m 2ms/step - loss: 204188.0469 - mae: 451.5486 - mse: 204188.0469\n",
            "Epoch 12/40\n",
            "\u001b[1m299/299\u001b[0m \u001b[32m━━━━━━━━━━━━━━━━━━━━\u001b[0m\u001b[37m\u001b[0m \u001b[1m1s\u001b[0m 2ms/step - loss: 204068.0938 - mae: 451.4153 - mse: 204068.0938\n",
            "Epoch 13/40\n",
            "\u001b[1m299/299\u001b[0m \u001b[32m━━━━━━━━━━━━━━━━━━━━\u001b[0m\u001b[37m\u001b[0m \u001b[1m1s\u001b[0m 2ms/step - loss: 203653.4375 - mae: 450.9553 - mse: 203653.4375\n",
            "Epoch 14/40\n",
            "\u001b[1m299/299\u001b[0m \u001b[32m━━━━━━━━━━━━━━━━━━━━\u001b[0m\u001b[37m\u001b[0m \u001b[1m1s\u001b[0m 2ms/step - loss: 203277.7188 - mae: 450.5446 - mse: 203277.7188\n",
            "Epoch 15/40\n",
            "\u001b[1m299/299\u001b[0m \u001b[32m━━━━━━━━━━━━━━━━━━━━\u001b[0m\u001b[37m\u001b[0m \u001b[1m1s\u001b[0m 2ms/step - loss: 203370.3438 - mae: 450.6463 - mse: 203370.3438\n",
            "Epoch 16/40\n",
            "\u001b[1m299/299\u001b[0m \u001b[32m━━━━━━━━━━━━━━━━━━━━\u001b[0m\u001b[37m\u001b[0m \u001b[1m1s\u001b[0m 2ms/step - loss: 202683.4688 - mae: 449.8803 - mse: 202683.4688\n",
            "Epoch 17/40\n",
            "\u001b[1m299/299\u001b[0m \u001b[32m━━━━━━━━━━━━━━━━━━━━\u001b[0m\u001b[37m\u001b[0m \u001b[1m1s\u001b[0m 2ms/step - loss: 202582.0312 - mae: 449.7658 - mse: 202582.0312\n",
            "Epoch 18/40\n",
            "\u001b[1m299/299\u001b[0m \u001b[32m━━━━━━━━━━━━━━━━━━━━\u001b[0m\u001b[37m\u001b[0m \u001b[1m1s\u001b[0m 2ms/step - loss: 202220.0312 - mae: 449.3677 - mse: 202220.0312\n",
            "Epoch 19/40\n",
            "\u001b[1m299/299\u001b[0m \u001b[32m━━━━━━━━━━━━━━━━━━━━\u001b[0m\u001b[37m\u001b[0m \u001b[1m1s\u001b[0m 2ms/step - loss: 202180.1250 - mae: 449.3144 - mse: 202180.1250\n",
            "Epoch 20/40\n",
            "\u001b[1m299/299\u001b[0m \u001b[32m━━━━━━━━━━━━━━━━━━━━\u001b[0m\u001b[37m\u001b[0m \u001b[1m1s\u001b[0m 3ms/step - loss: 201653.9688 - mae: 448.7390 - mse: 201653.9688\n",
            "Epoch 21/40\n",
            "\u001b[1m299/299\u001b[0m \u001b[32m━━━━━━━━━━━━━━━━━━━━\u001b[0m\u001b[37m\u001b[0m \u001b[1m1s\u001b[0m 2ms/step - loss: 201406.4062 - mae: 448.4514 - mse: 201406.4062\n",
            "Epoch 22/40\n",
            "\u001b[1m299/299\u001b[0m \u001b[32m━━━━━━━━━━━━━━━━━━━━\u001b[0m\u001b[37m\u001b[0m \u001b[1m1s\u001b[0m 2ms/step - loss: 201015.8594 - mae: 448.0266 - mse: 201015.8594\n",
            "Epoch 23/40\n",
            "\u001b[1m299/299\u001b[0m \u001b[32m━━━━━━━━━━━━━━━━━━━━\u001b[0m\u001b[37m\u001b[0m \u001b[1m1s\u001b[0m 2ms/step - loss: 201042.6094 - mae: 448.0569 - mse: 201042.6094\n",
            "Epoch 24/40\n",
            "\u001b[1m299/299\u001b[0m \u001b[32m━━━━━━━━━━━━━━━━━━━━\u001b[0m\u001b[37m\u001b[0m \u001b[1m1s\u001b[0m 2ms/step - loss: 200940.5781 - mae: 447.9393 - mse: 200940.5781\n",
            "Epoch 25/40\n",
            "\u001b[1m299/299\u001b[0m \u001b[32m━━━━━━━━━━━━━━━━━━━━\u001b[0m\u001b[37m\u001b[0m \u001b[1m1s\u001b[0m 2ms/step - loss: 200522.3750 - mae: 447.4670 - mse: 200522.3750\n",
            "Epoch 26/40\n",
            "\u001b[1m299/299\u001b[0m \u001b[32m━━━━━━━━━━━━━━━━━━━━\u001b[0m\u001b[37m\u001b[0m \u001b[1m1s\u001b[0m 2ms/step - loss: 200335.4219 - mae: 447.2587 - mse: 200335.4219\n",
            "Epoch 27/40\n",
            "\u001b[1m299/299\u001b[0m \u001b[32m━━━━━━━━━━━━━━━━━━━━\u001b[0m\u001b[37m\u001b[0m \u001b[1m1s\u001b[0m 2ms/step - loss: 199800.6719 - mae: 446.6666 - mse: 199800.6719\n",
            "Epoch 28/40\n",
            "\u001b[1m299/299\u001b[0m \u001b[32m━━━━━━━━━━━━━━━━━━━━\u001b[0m\u001b[37m\u001b[0m \u001b[1m1s\u001b[0m 2ms/step - loss: 199641.1094 - mae: 446.4854 - mse: 199641.1094\n",
            "Epoch 29/40\n",
            "\u001b[1m299/299\u001b[0m \u001b[32m━━━━━━━━━━━━━━━━━━━━\u001b[0m\u001b[37m\u001b[0m \u001b[1m1s\u001b[0m 2ms/step - loss: 199199.1250 - mae: 445.9897 - mse: 199199.1250\n",
            "Epoch 30/40\n",
            "\u001b[1m299/299\u001b[0m \u001b[32m━━━━━━━━━━━━━━━━━━━━\u001b[0m\u001b[37m\u001b[0m \u001b[1m1s\u001b[0m 2ms/step - loss: 198958.7188 - mae: 445.7206 - mse: 198958.7188\n",
            "Epoch 31/40\n",
            "\u001b[1m299/299\u001b[0m \u001b[32m━━━━━━━━━━━━━━━━━━━━\u001b[0m\u001b[37m\u001b[0m \u001b[1m1s\u001b[0m 2ms/step - loss: 198579.1562 - mae: 445.3004 - mse: 198579.1562\n",
            "Epoch 32/40\n",
            "\u001b[1m299/299\u001b[0m \u001b[32m━━━━━━━━━━━━━━━━━━━━\u001b[0m\u001b[37m\u001b[0m \u001b[1m1s\u001b[0m 2ms/step - loss: 198211.9531 - mae: 444.8819 - mse: 198211.9531\n",
            "Epoch 33/40\n",
            "\u001b[1m299/299\u001b[0m \u001b[32m━━━━━━━━━━━━━━━━━━━━\u001b[0m\u001b[37m\u001b[0m \u001b[1m1s\u001b[0m 2ms/step - loss: 198245.8438 - mae: 444.9150 - mse: 198245.8438\n",
            "Epoch 34/40\n",
            "\u001b[1m299/299\u001b[0m \u001b[32m━━━━━━━━━━━━━━━━━━━━\u001b[0m\u001b[37m\u001b[0m \u001b[1m1s\u001b[0m 2ms/step - loss: 197992.4375 - mae: 444.6427 - mse: 197992.4375\n",
            "Epoch 35/40\n",
            "\u001b[1m299/299\u001b[0m \u001b[32m━━━━━━━━━━━━━━━━━━━━\u001b[0m\u001b[37m\u001b[0m \u001b[1m1s\u001b[0m 3ms/step - loss: 197497.6562 - mae: 444.0797 - mse: 197497.6562\n",
            "Epoch 36/40\n",
            "\u001b[1m299/299\u001b[0m \u001b[32m━━━━━━━━━━━━━━━━━━━━\u001b[0m\u001b[37m\u001b[0m \u001b[1m1s\u001b[0m 3ms/step - loss: 197213.0938 - mae: 443.7621 - mse: 197213.0938\n",
            "Epoch 37/40\n",
            "\u001b[1m299/299\u001b[0m \u001b[32m━━━━━━━━━━━━━━━━━━━━\u001b[0m\u001b[37m\u001b[0m \u001b[1m1s\u001b[0m 2ms/step - loss: 197322.2656 - mae: 443.8840 - mse: 197322.2656\n",
            "Epoch 38/40\n",
            "\u001b[1m299/299\u001b[0m \u001b[32m━━━━━━━━━━━━━━━━━━━━\u001b[0m\u001b[37m\u001b[0m \u001b[1m1s\u001b[0m 2ms/step - loss: 196685.9688 - mae: 443.1685 - mse: 196685.9688\n",
            "Epoch 39/40\n",
            "\u001b[1m299/299\u001b[0m \u001b[32m━━━━━━━━━━━━━━━━━━━━\u001b[0m\u001b[37m\u001b[0m \u001b[1m1s\u001b[0m 2ms/step - loss: 196537.9062 - mae: 442.9913 - mse: 196537.9062\n",
            "Epoch 40/40\n",
            "\u001b[1m299/299\u001b[0m \u001b[32m━━━━━━━━━━━━━━━━━━━━\u001b[0m\u001b[37m\u001b[0m \u001b[1m1s\u001b[0m 2ms/step - loss: 196207.0156 - mae: 442.6197 - mse: 196207.0156\n"
          ]
        },
        {
          "output_type": "execute_result",
          "data": {
            "text/plain": [
              "<keras.src.callbacks.history.History at 0x7de13c844510>"
            ]
          },
          "metadata": {},
          "execution_count": 46
        }
      ]
    },
    {
      "cell_type": "markdown",
      "source": [
        "# Predicting the Output"
      ],
      "metadata": {
        "id": "S_5FrtKcWpxW"
      }
    },
    {
      "cell_type": "code",
      "source": [
        "y_pred = ann.predict(X_test)\n",
        "print(y_pred)"
      ],
      "metadata": {
        "colab": {
          "base_uri": "https://localhost:8080/"
        },
        "id": "q8xdgAMmWtae",
        "outputId": "ad426395-f76b-45c7-951b-86f36113919d"
      },
      "execution_count": 47,
      "outputs": [
        {
          "output_type": "stream",
          "name": "stdout",
          "text": [
            "\u001b[1m60/60\u001b[0m \u001b[32m━━━━━━━━━━━━━━━━━━━━\u001b[0m\u001b[37m\u001b[0m \u001b[1m0s\u001b[0m 3ms/step\n",
            "[[11.779493]\n",
            " [11.404682]\n",
            " [11.389269]\n",
            " ...\n",
            " [11.410903]\n",
            " [11.7541  ]\n",
            " [11.68887 ]]\n"
          ]
        }
      ]
    }
  ]
}